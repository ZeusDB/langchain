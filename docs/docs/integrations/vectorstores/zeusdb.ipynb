{
 "cells": [
  {
   "cell_type": "markdown",
   "id": "ef1f0986",
   "metadata": {},
   "source": [
    "# ⚡ ZeusDB Vector Store\n",
    "\n",
    "ZeusDB is a high-performance, Rust-powered vector database with enterprise features like quantization, persistence and logging.\n",
    "\n",
    "This notebook covers how to get started with the ZeusDB Vector Store to efficiently use ZeusDB with LangChain."
   ]
  },
  {
   "cell_type": "markdown",
   "id": "107c485d-13a3-4309-9fda-5a0440862d3c",
   "metadata": {},
   "source": [
    "---"
   ]
  },
  {
   "cell_type": "markdown",
   "id": "36fdc060",
   "metadata": {},
   "source": [
    "## Setup"
   ]
  },
  {
   "cell_type": "markdown",
   "id": "d978e3fd-d130-436f-841d-d133c0fae8fb",
   "metadata": {},
   "source": [
    "Install the ZeusDB LangChain integration package from PyPi:"
   ]
  },
  {
   "cell_type": "code",
   "execution_count": null,
   "id": "42ca8320-b866-4f37-944e-96eda54231d2",
   "metadata": {},
   "outputs": [],
   "source": [
    "pip install -qU langchain-zeusdb"
   ]
  },
  {
   "cell_type": "markdown",
   "id": "2a0e518a-ae8a-464b-8b47-9deb9d4ab063",
   "metadata": {},
   "source": [
    "*Setup in Jupyter Notebooks*"
   ]
  },
  {
   "cell_type": "markdown",
   "id": "1d092ea6-8553-4686-9563-b8318225a04a",
   "metadata": {},
   "source": [
    "> 💡 Tip: If you’re working inside Jupyter or Google Colab, use the %pip magic command so the package is installed into the active kernel:"
   ]
  },
  {
   "cell_type": "code",
   "execution_count": null,
   "id": "64e28aa6",
   "metadata": {},
   "outputs": [],
   "source": [
    "%pip install -qU langchain-zeusdb"
   ]
  },
  {
   "cell_type": "markdown",
   "id": "c12fe175-a299-47d3-869f-9367b6aa572d",
   "metadata": {},
   "source": [
    "---"
   ]
  },
  {
   "cell_type": "markdown",
   "id": "31554e69-40b2-4201-9f92-57e73ac66d33",
   "metadata": {},
   "source": [
    "## Getting Started"
   ]
  },
  {
   "cell_type": "markdown",
   "id": "b696b3dd-0fed-4ed2-a79a-5b32598508c0",
   "metadata": {},
   "source": [
    "This example uses OpenAIEmbeddings, which requires an OpenAI API key – [Get your OpenAI API key here](https://platform.openai.com/api-keys)"
   ]
  },
  {
   "cell_type": "markdown",
   "id": "2b79766e-7725-4be0-a183-4947b56892c5",
   "metadata": {},
   "source": [
    "If you prefer, you can also use this package with any other embedding provider (Hugging Face, Cohere, custom functions, etc.)."
   ]
  },
  {
   "cell_type": "markdown",
   "id": "b5266cc7-28da-459e-a28d-128382ed5a20",
   "metadata": {},
   "source": [
    "Install the LangChain OpenAI integration package from PyPi:"
   ]
  },
  {
   "cell_type": "code",
   "execution_count": null,
   "id": "1ed941cd-5e06-4c61-9235-90bd0b0b0452",
   "metadata": {},
   "outputs": [],
   "source": [
    "pip install -qU langchain-openai\n",
    "\n",
    "# Use this command if inside Jupyter Notebooks\n",
    "#%pip install -qU langchain-openai"
   ]
  },
  {
   "cell_type": "markdown",
   "id": "0f49b2ec-d047-455d-8c05-da041112dd8a",
   "metadata": {},
   "source": [
    "#### Please choose an option below for your OpenAI key integration"
   ]
  },
  {
   "cell_type": "markdown",
   "id": "ed2d9bf6-be53-4fc1-9611-158f03fd71b7",
   "metadata": {},
   "source": [
    "*Option 1: 🔑 Enter your API key each time*  "
   ]
  },
  {
   "cell_type": "markdown",
   "id": "eff5b6a5-4c57-4531-896e-54bcb2b1dec2",
   "metadata": {},
   "source": [
    "Use getpass in Jupyter to securely input your key for the current session:"
   ]
  },
  {
   "cell_type": "code",
   "execution_count": 1,
   "id": "08a50da9-5ed1-40dc-a390-07b031369761",
   "metadata": {},
   "outputs": [
    {
     "name": "stdin",
     "output_type": "stream",
     "text": [
      "OpenAI API Key: ········\n"
     ]
    }
   ],
   "source": [
    "import os\n",
    "import getpass\n",
    "os.environ['OPENAI_API_KEY'] = getpass.getpass('OpenAI API Key:')"
   ]
  },
  {
   "cell_type": "markdown",
   "id": "7321917e-8586-42e4-9822-b68cfd74f233",
   "metadata": {},
   "source": [
    "*Option 2: 🗂️ Use a .env file*"
   ]
  },
  {
   "cell_type": "markdown",
   "id": "b9297b6b-bd7e-457f-95af-5b41c7ab9b41",
   "metadata": {},
   "source": [
    "Keep your key in a local .env file and load it automatically with python-dotenv"
   ]
  },
  {
   "cell_type": "code",
   "execution_count": null,
   "id": "85a139dc-f439-4e4e-bc46-76d9478c304d",
   "metadata": {},
   "outputs": [],
   "source": [
    "from dotenv import load_dotenv\n",
    "load_dotenv()  # reads .env and sets OPENAI_API_KEY"
   ]
  },
  {
   "cell_type": "markdown",
   "id": "1af364e3-df59-4963-aaaa-0e83f6ec5e32",
   "metadata": {},
   "source": [
    "🎉🎉 That's it! You are good to go."
   ]
  },
  {
   "cell_type": "markdown",
   "id": "3146180e-026e-4421-a490-ffd14ceabac3",
   "metadata": {},
   "source": [
    "---"
   ]
  },
  {
   "cell_type": "markdown",
   "id": "93df377e",
   "metadata": {},
   "source": [
    "## 1. Initialization"
   ]
  },
  {
   "cell_type": "code",
   "execution_count": 2,
   "id": "fb55dfe8-2c98-45b6-ba90-7a3667ceee0c",
   "metadata": {},
   "outputs": [],
   "source": [
    "# Import required Packages and Classes\n",
    "from langchain_zeusdb import ZeusDBVectorStore\n",
    "from langchain_openai import OpenAIEmbeddings\n",
    "from zeusdb import VectorDatabase"
   ]
  },
  {
   "cell_type": "code",
   "execution_count": 3,
   "id": "dc37144c-208d-4ab3-9f3a-0407a69fe052",
   "metadata": {
    "tags": []
   },
   "outputs": [],
   "source": [
    "# Initialize embeddings\n",
    "embeddings = OpenAIEmbeddings(model=\"text-embedding-3-small\")\n",
    "\n",
    "# Create ZeusDB index\n",
    "vdb = VectorDatabase()\n",
    "index = vdb.create(\n",
    "    index_type=\"hnsw\",\n",
    "    dim=1536,\n",
    "    space=\"cosine\"\n",
    ")\n",
    "\n",
    "# Create vector store\n",
    "vector_store = ZeusDBVectorStore(\n",
    "    zeusdb_index=index,\n",
    "    embedding=embeddings\n",
    ")"
   ]
  },
  {
   "cell_type": "markdown",
   "id": "f45fa43c-8b54-4a75-b7b0-92ac0ac506c6",
   "metadata": {},
   "source": [
    "---"
   ]
  },
  {
   "cell_type": "markdown",
   "id": "ac6071d4",
   "metadata": {},
   "source": [
    "## 2. Manage Vector Store"
   ]
  },
  {
   "cell_type": "markdown",
   "id": "edf53787-ebda-4306-afc3-f7d440dcb1ff",
   "metadata": {},
   "source": [
    "### 2.1 Add items to vector store"
   ]
  },
  {
   "cell_type": "code",
   "execution_count": 4,
   "id": "17f5efc0",
   "metadata": {},
   "outputs": [
    {
     "data": {
      "text/plain": [
       "['1', '2', '3']"
      ]
     },
     "execution_count": 4,
     "metadata": {},
     "output_type": "execute_result"
    }
   ],
   "source": [
    "from langchain_core.documents import Document\n",
    "\n",
    "document_1 = Document(\n",
    "    page_content=\"ZeusDB is a high-performance vector database\",\n",
    "    metadata={\"source\": \"https://docs.zeusdb.com\"}\n",
    ")\n",
    "\n",
    "document_2 = Document(\n",
    "    page_content=\"Product Quantization reduces memory usage significantly\",\n",
    "    metadata={\"source\": \"https://docs.zeusdb.com\"}\n",
    ")\n",
    "\n",
    "document_3 = Document(\n",
    "    page_content=\"ZeusDB integrates seamlessly with LangChain\",\n",
    "    metadata={\"source\": \"https://docs.zeusdb.com\"}\n",
    ")\n",
    "\n",
    "documents = [document_1, document_2, document_3]\n",
    "\n",
    "vector_store.add_documents(documents=documents, ids=[\"1\", \"2\", \"3\"])"
   ]
  },
  {
   "cell_type": "markdown",
   "id": "c738c3e0",
   "metadata": {},
   "source": [
    "### 2.2 Update items in vector store"
   ]
  },
  {
   "cell_type": "code",
   "execution_count": 5,
   "id": "f0aa8b71",
   "metadata": {},
   "outputs": [
    {
     "data": {
      "text/plain": [
       "['1']"
      ]
     },
     "execution_count": 5,
     "metadata": {},
     "output_type": "execute_result"
    }
   ],
   "source": [
    "updated_document = Document(\n",
    "    page_content=\"ZeusDB now supports advanced Product Quantization with 4x-256x compression\",\n",
    "    metadata={\"source\": \"https://docs.zeusdb.com\", \"updated\": True}\n",
    ")\n",
    "\n",
    "vector_store.add_documents([updated_document], ids=[\"1\"])"
   ]
  },
  {
   "cell_type": "markdown",
   "id": "dcf1b905",
   "metadata": {},
   "source": [
    "### 2.3 Delete items from vector store"
   ]
  },
  {
   "cell_type": "code",
   "execution_count": 6,
   "id": "ef61e188",
   "metadata": {},
   "outputs": [
    {
     "data": {
      "text/plain": [
       "True"
      ]
     },
     "execution_count": 6,
     "metadata": {},
     "output_type": "execute_result"
    }
   ],
   "source": [
    "vector_store.delete(ids=[\"3\"])"
   ]
  },
  {
   "cell_type": "markdown",
   "id": "1a0091af-777d-4651-888a-3b346d7990f5",
   "metadata": {},
   "source": [
    "---"
   ]
  },
  {
   "cell_type": "markdown",
   "id": "c3620501",
   "metadata": {},
   "source": [
    "## 3. Query Vector Store"
   ]
  },
  {
   "cell_type": "markdown",
   "id": "4ba3fdb2-b7d6-4f0f-b8c9-91f63596018b",
   "metadata": {},
   "source": [
    "### 3.1 Query directly"
   ]
  },
  {
   "cell_type": "markdown",
   "id": "400a9b25-9587-4116-ab59-6888602ec2b1",
   "metadata": {},
   "source": [
    "Performing a simple similarity search:"
   ]
  },
  {
   "cell_type": "code",
   "execution_count": 7,
   "id": "aa0a16fa",
   "metadata": {},
   "outputs": [
    {
     "name": "stdout",
     "output_type": "stream",
     "text": [
      "* ZeusDB now supports advanced Product Quantization with 4x-256x compression [{'source': 'https://docs.zeusdb.com', 'updated': True}]\n",
      "* Product Quantization reduces memory usage significantly [{'source': 'https://docs.zeusdb.com'}]\n"
     ]
    }
   ],
   "source": [
    "results = vector_store.similarity_search(\n",
    "    query=\"high performance database\", \n",
    "    k=2\n",
    ")\n",
    "\n",
    "for doc in results:\n",
    "    print(f\"* {doc.page_content} [{doc.metadata}]\")"
   ]
  },
  {
   "cell_type": "markdown",
   "id": "3ed9d733",
   "metadata": {},
   "source": [
    "If you want to execute a similarity search and receive the corresponding scores:"
   ]
  },
  {
   "cell_type": "code",
   "execution_count": 8,
   "id": "5efd2eaa",
   "metadata": {},
   "outputs": [
    {
     "name": "stdout",
     "output_type": "stream",
     "text": [
      "* [SIM=0.501] Product Quantization reduces memory usage significantly [{'source': 'https://docs.zeusdb.com'}]\n",
      "* [SIM=0.763] ZeusDB now supports advanced Product Quantization with 4x-256x compression [{'source': 'https://docs.zeusdb.com', 'updated': True}]\n"
     ]
    }
   ],
   "source": [
    "results = vector_store.similarity_search_with_score(\n",
    "    query=\"memory optimization\", \n",
    "    k=2\n",
    ")\n",
    "\n",
    "for doc, score in results:\n",
    "    print(f\"* [SIM={score:.3f}] {doc.page_content} [{doc.metadata}]\")"
   ]
  },
  {
   "cell_type": "markdown",
   "id": "0c235cdc",
   "metadata": {},
   "source": [
    "### 3.2 Query by turning into retriever"
   ]
  },
  {
   "cell_type": "markdown",
   "id": "59292cb5-5dc8-4158-9137-89d0f6ca711d",
   "metadata": {},
   "source": [
    "You can also transform the vector store into a retriever for easier usage in your chains:"
   ]
  },
  {
   "cell_type": "code",
   "execution_count": 9,
   "id": "f3460093",
   "metadata": {},
   "outputs": [
    {
     "data": {
      "text/plain": [
       "[Document(id='1', metadata={'source': 'https://docs.zeusdb.com', 'updated': True}, page_content='ZeusDB now supports advanced Product Quantization with 4x-256x compression'),\n",
       " Document(id='2', metadata={'source': 'https://docs.zeusdb.com'}, page_content='Product Quantization reduces memory usage significantly')]"
      ]
     },
     "execution_count": 9,
     "metadata": {},
     "output_type": "execute_result"
    }
   ],
   "source": [
    "retriever = vector_store.as_retriever(\n",
    "    search_type=\"mmr\",\n",
    "    search_kwargs={\"k\": 2}\n",
    ")\n",
    "\n",
    "retriever.invoke(\"vector database features\")"
   ]
  },
  {
   "cell_type": "markdown",
   "id": "cc2d2b63-99d8-45c4-85e6-6a9409551ada",
   "metadata": {},
   "source": [
    "---"
   ]
  },
  {
   "cell_type": "markdown",
   "id": "persistence_section",
   "metadata": {},
   "source": [
    "## 4. ZeusDB-Specific Features"
   ]
  },
  {
   "cell_type": "markdown",
   "id": "memory_section",
   "metadata": {},
   "source": [
    "### 4.1 Memory-Efficient Setup with Product Quantization"
   ]
  },
  {
   "cell_type": "markdown",
   "id": "12832d02-d9ea-4c35-a20f-05c85d1d7723",
   "metadata": {},
   "source": [
    "For large datasets, use Product Quantization to reduce memory usage:"
   ]
  },
  {
   "cell_type": "code",
   "execution_count": 10,
   "id": "quantization_example",
   "metadata": {},
   "outputs": [
    {
     "name": "stdout",
     "output_type": "stream",
     "text": [
      "Created quantized store: HNSWIndex(dim=1536, space=cosine, m=16, ef_construction=200, expected_size=10000, vectors=0, quantization=pq(subvectors=8, bits=8, untrained, inactive, compression=768.0x))\n"
     ]
    }
   ],
   "source": [
    "# Create memory-optimized vector store\n",
    "quantization_config = {\n",
    "    'type': 'pq',\n",
    "    'subvectors': 8,\n",
    "    'bits': 8,\n",
    "    'training_size': 10000\n",
    "}\n",
    "\n",
    "vdb_quantized = VectorDatabase()\n",
    "quantized_index = vdb_quantized.create(\n",
    "    index_type=\"hnsw\",\n",
    "    dim=1536,\n",
    "    quantization_config=quantization_config\n",
    ")\n",
    "\n",
    "quantized_vector_store = ZeusDBVectorStore(\n",
    "    zeusdb_index=quantized_index,\n",
    "    embedding=embeddings\n",
    ")\n",
    "\n",
    "print(f\"Created quantized store: {quantized_index.info()}\")"
   ]
  },
  {
   "cell_type": "markdown",
   "id": "6ffe0613-b2a7-484e-9219-1166b65c49c5",
   "metadata": {},
   "source": [
    "### 4.2 Persistence"
   ]
  },
  {
   "cell_type": "markdown",
   "id": "fbc323ee-4c6c-43fc-beba-675d820ca078",
   "metadata": {},
   "source": [
    "Save and load your vector store to disk:"
   ]
  },
  {
   "cell_type": "markdown",
   "id": "834354d1-55ad-48fe-84e1-a5eacff3f6bb",
   "metadata": {},
   "source": [
    "How to Save your vector store"
   ]
  },
  {
   "cell_type": "code",
   "execution_count": 11,
   "id": "f9d1332b-a7ac-4a4b-a060-f2061599d3f1",
   "metadata": {},
   "outputs": [
    {
     "data": {
      "text/plain": [
       "True"
      ]
     },
     "execution_count": 11,
     "metadata": {},
     "output_type": "execute_result"
    }
   ],
   "source": [
    "# Save the vector store\n",
    "vector_store.save_index(\"my_zeusdb_index.zdb\")"
   ]
  },
  {
   "cell_type": "markdown",
   "id": "23370621-5b51-4313-800f-3a2fb9de52d2",
   "metadata": {},
   "source": [
    "How to Load your vector store"
   ]
  },
  {
   "cell_type": "code",
   "execution_count": 12,
   "id": "f9ed5778-58e4-4724-b69d-3c7b48cda429",
   "metadata": {},
   "outputs": [
    {
     "name": "stdout",
     "output_type": "stream",
     "text": [
      "Loaded store with 2 vectors\n"
     ]
    }
   ],
   "source": [
    "# Load the vector store\n",
    "loaded_store = ZeusDBVectorStore.load_index(\n",
    "    path=\"my_zeusdb_index.zdb\",\n",
    "    embedding=embeddings\n",
    ")\n",
    "\n",
    "print(f\"Loaded store with {loaded_store.get_vector_count()} vectors\")"
   ]
  },
  {
   "cell_type": "markdown",
   "id": "610cfe63-d4a8-4ef0-88a8-cf9cc3cbbfce",
   "metadata": {},
   "source": [
    "---"
   ]
  },
  {
   "cell_type": "markdown",
   "id": "901c75dc",
   "metadata": {},
   "source": [
    "## Usage for Retrieval-Augmented Generation (RAG)\n",
    "\n",
    "For guides on how to use this vector store for retrieval-augmented generation (RAG), see the following sections:\n",
    "\n",
    "- [How-to: Question and answer with RAG](https://python.langchain.com/docs/how_to/#qa-with-rag)\n",
    "- [Retrieval conceptual docs](https://python.langchain.com/docs/concepts/retrieval/)"
   ]
  },
  {
   "cell_type": "markdown",
   "id": "1d9d9d51-3798-410f-b1b3-f9736ea8c238",
   "metadata": {},
   "source": [
    "---"
   ]
  },
  {
   "cell_type": "markdown",
   "id": "25b08eb0-99ab-4919-a201-5243fdfa39e9",
   "metadata": {},
   "source": [
    "## API reference"
   ]
  },
  {
   "cell_type": "markdown",
   "id": "77fdca8b-f75e-4100-9f1d-7a017567dc59",
   "metadata": {},
   "source": [
    "For detailed documentation of all ZeusDBVectorStore features and configurations head to the Doc reference: https://docs.zeusdb.com/en/latest/vector_database/integrations/langchain.html"
   ]
  }
 ],
 "metadata": {
  "kernelspec": {
   "display_name": "Python 3 (ipykernel)",
   "language": "python",
   "name": "python3"
  },
  "language_info": {
   "codemirror_mode": {
    "name": "ipython",
    "version": 3
   },
   "file_extension": ".py",
   "mimetype": "text/x-python",
   "name": "python",
   "nbconvert_exporter": "python",
   "pygments_lexer": "ipython3",
   "version": "3.13.3"
  }
 },
 "nbformat": 4,
 "nbformat_minor": 5
}
